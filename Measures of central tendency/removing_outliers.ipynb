{
 "cells": [
  {
   "cell_type": "code",
   "execution_count": 1,
   "id": "996419a5-bf14-4724-b16c-3fcae5cad802",
   "metadata": {},
   "outputs": [],
   "source": [
    "import numpy as np\n",
    "import pandas as pd"
   ]
  },
  {
   "cell_type": "code",
   "execution_count": 43,
   "id": "b9e1a8da-b061-4e8c-896e-c5a19e6cac35",
   "metadata": {},
   "outputs": [
    {
     "data": {
      "text/html": [
       "<div>\n",
       "<style scoped>\n",
       "    .dataframe tbody tr th:only-of-type {\n",
       "        vertical-align: middle;\n",
       "    }\n",
       "\n",
       "    .dataframe tbody tr th {\n",
       "        vertical-align: top;\n",
       "    }\n",
       "\n",
       "    .dataframe thead th {\n",
       "        text-align: right;\n",
       "    }\n",
       "</style>\n",
       "<table border=\"1\" class=\"dataframe\">\n",
       "  <thead>\n",
       "    <tr style=\"text-align: right;\">\n",
       "      <th></th>\n",
       "      <th>name</th>\n",
       "      <th>price</th>\n",
       "    </tr>\n",
       "  </thead>\n",
       "  <tbody>\n",
       "    <tr>\n",
       "      <th>0</th>\n",
       "      <td>Clean &amp; quiet apt home by the park</td>\n",
       "      <td>149</td>\n",
       "    </tr>\n",
       "    <tr>\n",
       "      <th>1</th>\n",
       "      <td>Skylit Midtown Castle</td>\n",
       "      <td>225</td>\n",
       "    </tr>\n",
       "    <tr>\n",
       "      <th>2</th>\n",
       "      <td>THE VILLAGE OF HARLEM....NEW YORK !</td>\n",
       "      <td>150</td>\n",
       "    </tr>\n",
       "    <tr>\n",
       "      <th>3</th>\n",
       "      <td>Cozy Entire Floor of Brownstone</td>\n",
       "      <td>89</td>\n",
       "    </tr>\n",
       "    <tr>\n",
       "      <th>4</th>\n",
       "      <td>Entire Apt: Spacious Studio/Loft by central park</td>\n",
       "      <td>80</td>\n",
       "    </tr>\n",
       "    <tr>\n",
       "      <th>...</th>\n",
       "      <td>...</td>\n",
       "      <td>...</td>\n",
       "    </tr>\n",
       "    <tr>\n",
       "      <th>48890</th>\n",
       "      <td>Charming one bedroom - newly renovated rowhouse</td>\n",
       "      <td>70</td>\n",
       "    </tr>\n",
       "    <tr>\n",
       "      <th>48891</th>\n",
       "      <td>Affordable room in Bushwick/East Williamsburg</td>\n",
       "      <td>40</td>\n",
       "    </tr>\n",
       "    <tr>\n",
       "      <th>48892</th>\n",
       "      <td>Sunny Studio at Historical Neighborhood</td>\n",
       "      <td>115</td>\n",
       "    </tr>\n",
       "    <tr>\n",
       "      <th>48893</th>\n",
       "      <td>43rd St. Time Square-cozy single bed</td>\n",
       "      <td>55</td>\n",
       "    </tr>\n",
       "    <tr>\n",
       "      <th>48894</th>\n",
       "      <td>Trendy duplex in the very heart of Hell's Kitchen</td>\n",
       "      <td>90</td>\n",
       "    </tr>\n",
       "  </tbody>\n",
       "</table>\n",
       "<p>48895 rows × 2 columns</p>\n",
       "</div>"
      ],
      "text/plain": [
       "                                                    name  price\n",
       "0                     Clean & quiet apt home by the park    149\n",
       "1                                  Skylit Midtown Castle    225\n",
       "2                    THE VILLAGE OF HARLEM....NEW YORK !    150\n",
       "3                        Cozy Entire Floor of Brownstone     89\n",
       "4       Entire Apt: Spacious Studio/Loft by central park     80\n",
       "...                                                  ...    ...\n",
       "48890    Charming one bedroom - newly renovated rowhouse     70\n",
       "48891      Affordable room in Bushwick/East Williamsburg     40\n",
       "48892            Sunny Studio at Historical Neighborhood    115\n",
       "48893               43rd St. Time Square-cozy single bed     55\n",
       "48894  Trendy duplex in the very heart of Hell's Kitchen     90\n",
       "\n",
       "[48895 rows x 2 columns]"
      ]
     },
     "execution_count": 43,
     "metadata": {},
     "output_type": "execute_result"
    }
   ],
   "source": [
    "df = pd.read_csv('AB_NYC_2019.csv',usecols=['name','price'])\n",
    "df"
   ]
  },
  {
   "cell_type": "code",
   "execution_count": 45,
   "id": "ee222dbe-a763-4368-a4e5-5e3627004eda",
   "metadata": {},
   "outputs": [
    {
     "data": {
      "text/plain": [
       "count    48895.000000\n",
       "mean       152.720687\n",
       "std        240.154170\n",
       "min          0.000000\n",
       "25%         69.000000\n",
       "50%        106.000000\n",
       "75%        175.000000\n",
       "max      10000.000000\n",
       "Name: price, dtype: float64"
      ]
     },
     "execution_count": 45,
     "metadata": {},
     "output_type": "execute_result"
    }
   ],
   "source": [
    "df.price.describe()"
   ]
  },
  {
   "cell_type": "code",
   "execution_count": 46,
   "id": "9b673ab5-f174-445b-bb46-ef0efe0b24eb",
   "metadata": {},
   "outputs": [
    {
     "data": {
      "text/plain": [
       "3000.0"
      ]
     },
     "execution_count": 46,
     "metadata": {},
     "output_type": "execute_result"
    }
   ],
   "source": [
    "max = df.price.quantile(0.999)\n",
    "max"
   ]
  },
  {
   "cell_type": "code",
   "execution_count": 47,
   "id": "35415b8d-21f7-4260-ac30-642638a072de",
   "metadata": {},
   "outputs": [
    {
     "data": {
      "text/plain": [
       "30.0"
      ]
     },
     "execution_count": 47,
     "metadata": {},
     "output_type": "execute_result"
    }
   ],
   "source": [
    "min = df.price.quantile(0.01)\n",
    "min"
   ]
  },
  {
   "cell_type": "code",
   "execution_count": 50,
   "id": "733e91bc-7964-4306-9668-2e4dffae8001",
   "metadata": {},
   "outputs": [
    {
     "data": {
      "text/html": [
       "<div>\n",
       "<style scoped>\n",
       "    .dataframe tbody tr th:only-of-type {\n",
       "        vertical-align: middle;\n",
       "    }\n",
       "\n",
       "    .dataframe tbody tr th {\n",
       "        vertical-align: top;\n",
       "    }\n",
       "\n",
       "    .dataframe thead th {\n",
       "        text-align: right;\n",
       "    }\n",
       "</style>\n",
       "<table border=\"1\" class=\"dataframe\">\n",
       "  <thead>\n",
       "    <tr style=\"text-align: right;\">\n",
       "      <th></th>\n",
       "      <th>name</th>\n",
       "      <th>price</th>\n",
       "    </tr>\n",
       "  </thead>\n",
       "  <tbody>\n",
       "    <tr>\n",
       "      <th>0</th>\n",
       "      <td>Clean &amp; quiet apt home by the park</td>\n",
       "      <td>149</td>\n",
       "    </tr>\n",
       "    <tr>\n",
       "      <th>1</th>\n",
       "      <td>Skylit Midtown Castle</td>\n",
       "      <td>225</td>\n",
       "    </tr>\n",
       "    <tr>\n",
       "      <th>2</th>\n",
       "      <td>THE VILLAGE OF HARLEM....NEW YORK !</td>\n",
       "      <td>150</td>\n",
       "    </tr>\n",
       "    <tr>\n",
       "      <th>3</th>\n",
       "      <td>Cozy Entire Floor of Brownstone</td>\n",
       "      <td>89</td>\n",
       "    </tr>\n",
       "    <tr>\n",
       "      <th>4</th>\n",
       "      <td>Entire Apt: Spacious Studio/Loft by central park</td>\n",
       "      <td>80</td>\n",
       "    </tr>\n",
       "    <tr>\n",
       "      <th>...</th>\n",
       "      <td>...</td>\n",
       "      <td>...</td>\n",
       "    </tr>\n",
       "    <tr>\n",
       "      <th>48890</th>\n",
       "      <td>Charming one bedroom - newly renovated rowhouse</td>\n",
       "      <td>70</td>\n",
       "    </tr>\n",
       "    <tr>\n",
       "      <th>48891</th>\n",
       "      <td>Affordable room in Bushwick/East Williamsburg</td>\n",
       "      <td>40</td>\n",
       "    </tr>\n",
       "    <tr>\n",
       "      <th>48892</th>\n",
       "      <td>Sunny Studio at Historical Neighborhood</td>\n",
       "      <td>115</td>\n",
       "    </tr>\n",
       "    <tr>\n",
       "      <th>48893</th>\n",
       "      <td>43rd St. Time Square-cozy single bed</td>\n",
       "      <td>55</td>\n",
       "    </tr>\n",
       "    <tr>\n",
       "      <th>48894</th>\n",
       "      <td>Trendy duplex in the very heart of Hell's Kitchen</td>\n",
       "      <td>90</td>\n",
       "    </tr>\n",
       "  </tbody>\n",
       "</table>\n",
       "<p>48183 rows × 2 columns</p>\n",
       "</div>"
      ],
      "text/plain": [
       "                                                    name  price\n",
       "0                     Clean & quiet apt home by the park    149\n",
       "1                                  Skylit Midtown Castle    225\n",
       "2                    THE VILLAGE OF HARLEM....NEW YORK !    150\n",
       "3                        Cozy Entire Floor of Brownstone     89\n",
       "4       Entire Apt: Spacious Studio/Loft by central park     80\n",
       "...                                                  ...    ...\n",
       "48890    Charming one bedroom - newly renovated rowhouse     70\n",
       "48891      Affordable room in Bushwick/East Williamsburg     40\n",
       "48892            Sunny Studio at Historical Neighborhood    115\n",
       "48893               43rd St. Time Square-cozy single bed     55\n",
       "48894  Trendy duplex in the very heart of Hell's Kitchen     90\n",
       "\n",
       "[48183 rows x 2 columns]"
      ]
     },
     "execution_count": 50,
     "metadata": {},
     "output_type": "execute_result"
    }
   ],
   "source": [
    "final_df = df[(df.price>min)&(df.price<max)]\n",
    "final_df"
   ]
  },
  {
   "cell_type": "code",
   "execution_count": 51,
   "id": "bc21b38e-f78c-42e2-accd-d52b30fa150a",
   "metadata": {},
   "outputs": [
    {
     "data": {
      "text/plain": [
       "count    48183.000000\n",
       "mean       148.772036\n",
       "std        153.594795\n",
       "min         31.000000\n",
       "25%         70.000000\n",
       "50%        110.000000\n",
       "75%        179.000000\n",
       "max       2999.000000\n",
       "Name: price, dtype: float64"
      ]
     },
     "execution_count": 51,
     "metadata": {},
     "output_type": "execute_result"
    }
   ],
   "source": [
    "finaldf.price.describe()"
   ]
  }
 ],
 "metadata": {
  "kernelspec": {
   "display_name": "Python 3 (ipykernel)",
   "language": "python",
   "name": "python3"
  },
  "language_info": {
   "codemirror_mode": {
    "name": "ipython",
    "version": 3
   },
   "file_extension": ".py",
   "mimetype": "text/x-python",
   "name": "python",
   "nbconvert_exporter": "python",
   "pygments_lexer": "ipython3",
   "version": "3.12.1"
  },
  "widgets": {
   "application/vnd.jupyter.widget-state+json": {
    "state": {},
    "version_major": 2,
    "version_minor": 0
   }
  }
 },
 "nbformat": 4,
 "nbformat_minor": 5
}
