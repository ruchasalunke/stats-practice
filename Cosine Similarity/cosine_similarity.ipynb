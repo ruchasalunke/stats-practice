{
 "cells": [
  {
   "cell_type": "code",
   "execution_count": 1,
   "id": "71332087-8ed1-43a5-9f43-aef98a7d569d",
   "metadata": {},
   "outputs": [],
   "source": [
    "from sklearn.metrics.pairwise import cosine_similarity, cosine_distances"
   ]
  },
  {
   "cell_type": "code",
   "execution_count": 2,
   "id": "60421d18-d5cf-4a89-b236-285c69aafa80",
   "metadata": {},
   "outputs": [
    {
     "data": {
      "text/plain": [
       "array([[1.]])"
      ]
     },
     "execution_count": 2,
     "metadata": {},
     "output_type": "execute_result"
    }
   ],
   "source": [
    "cosine_similarity([[3,1]],[[6,2]])"
   ]
  },
  {
   "cell_type": "code",
   "execution_count": 3,
   "id": "c6a58cf0-d439-4cfe-8bf2-fef4b2b1d6cc",
   "metadata": {},
   "outputs": [
    {
     "data": {
      "text/plain": [
       "array([[0.]])"
      ]
     },
     "execution_count": 3,
     "metadata": {},
     "output_type": "execute_result"
    }
   ],
   "source": [
    "cosine_similarity([[3,0]],[[0,8]])"
   ]
  },
  {
   "cell_type": "code",
   "execution_count": 4,
   "id": "6fc982e6-bd9b-4c23-89a2-59d740790f20",
   "metadata": {},
   "outputs": [],
   "source": [
    "doc1 = \"\"\"\n",
    "iphone sales contributed to 70% of revenue. iphone demand is increasing by 20% yoy. \n",
    "the main competitor phone galaxy recorded 5% less growth compared to iphone\"\n",
    "\"\"\"\n",
    "\n",
    "doc2 = \"\"\"\n",
    "The upside pressure on volumes for the iPhone 12 series, historical outperformance \n",
    "in the July-September time period heading into launch event, and further catalysts in relation\n",
    "to outperformance for iPhone 13 volumes relative to lowered investor expectations implies a \n",
    "very attractive set up for the shares.\n",
    "\"\"\"\n",
    "\n",
    "doc3 = \"\"\"\n",
    "samsung's flagship product galaxy is able to penetrate more into asian markets compared to\n",
    "iphone. galaxy is redesigned with new look that appeals young demographics. 60% of samsung revenues\n",
    "are coming from galaxy phone sales\n",
    "\"\"\"\n",
    "\n",
    "doc4 = \"\"\"\n",
    "Samsung Electronics unveils its Galaxy S21 flagship, with modest spec improvements \n",
    "and a significantly lower price point. Galaxy S21 price is lower by ~20% (much like the iPhone 12A), \n",
    "which highlights Samsung's focus on boosting shipments and regaining market share.\n",
    "\"\"\""
   ]
  },
  {
   "cell_type": "code",
   "execution_count": 5,
   "id": "9ade5eb8-a507-4bc8-a26a-fb6db513aa50",
   "metadata": {},
   "outputs": [
    {
     "data": {
      "text/html": [
       "<div>\n",
       "<style scoped>\n",
       "    .dataframe tbody tr th:only-of-type {\n",
       "        vertical-align: middle;\n",
       "    }\n",
       "\n",
       "    .dataframe tbody tr th {\n",
       "        vertical-align: top;\n",
       "    }\n",
       "\n",
       "    .dataframe thead th {\n",
       "        text-align: right;\n",
       "    }\n",
       "</style>\n",
       "<table border=\"1\" class=\"dataframe\">\n",
       "  <thead>\n",
       "    <tr style=\"text-align: right;\">\n",
       "      <th></th>\n",
       "      <th>iPhone</th>\n",
       "      <th>galaxy</th>\n",
       "    </tr>\n",
       "  </thead>\n",
       "  <tbody>\n",
       "    <tr>\n",
       "      <th>doc1</th>\n",
       "      <td>3</td>\n",
       "      <td>1</td>\n",
       "    </tr>\n",
       "    <tr>\n",
       "      <th>doc2</th>\n",
       "      <td>2</td>\n",
       "      <td>0</td>\n",
       "    </tr>\n",
       "    <tr>\n",
       "      <th>doc3</th>\n",
       "      <td>1</td>\n",
       "      <td>3</td>\n",
       "    </tr>\n",
       "    <tr>\n",
       "      <th>doc4</th>\n",
       "      <td>1</td>\n",
       "      <td>2</td>\n",
       "    </tr>\n",
       "  </tbody>\n",
       "</table>\n",
       "</div>"
      ],
      "text/plain": [
       "      iPhone  galaxy\n",
       "doc1       3       1\n",
       "doc2       2       0\n",
       "doc3       1       3\n",
       "doc4       1       2"
      ]
     },
     "execution_count": 5,
     "metadata": {},
     "output_type": "execute_result"
    }
   ],
   "source": [
    "import pandas as pd\n",
    "df = pd.DataFrame([\n",
    "        {'iPhone': 3,'galaxy': 1},\n",
    "        {'iPhone': 2,'galaxy': 0},\n",
    "        {'iPhone': 1,'galaxy': 3},\n",
    "        {'iPhone': 1,'galaxy': 2},\n",
    "    ],\n",
    "    index=[\n",
    "        \"doc1\",\n",
    "        \"doc2\",\n",
    "        \"doc3\",\n",
    "        \"doc4\"\n",
    "    ])\n",
    "df"
   ]
  },
  {
   "cell_type": "code",
   "execution_count": 6,
   "id": "93b71a29-2288-4ae0-a5f0-6eaafcdadd78",
   "metadata": {},
   "outputs": [
    {
     "data": {
      "text/html": [
       "<div>\n",
       "<style scoped>\n",
       "    .dataframe tbody tr th:only-of-type {\n",
       "        vertical-align: middle;\n",
       "    }\n",
       "\n",
       "    .dataframe tbody tr th {\n",
       "        vertical-align: top;\n",
       "    }\n",
       "\n",
       "    .dataframe thead th {\n",
       "        text-align: right;\n",
       "    }\n",
       "</style>\n",
       "<table border=\"1\" class=\"dataframe\">\n",
       "  <thead>\n",
       "    <tr style=\"text-align: right;\">\n",
       "      <th></th>\n",
       "      <th>iPhone</th>\n",
       "      <th>galaxy</th>\n",
       "    </tr>\n",
       "  </thead>\n",
       "  <tbody>\n",
       "    <tr>\n",
       "      <th>doc1</th>\n",
       "      <td>3</td>\n",
       "      <td>1</td>\n",
       "    </tr>\n",
       "  </tbody>\n",
       "</table>\n",
       "</div>"
      ],
      "text/plain": [
       "      iPhone  galaxy\n",
       "doc1       3       1"
      ]
     },
     "execution_count": 6,
     "metadata": {},
     "output_type": "execute_result"
    }
   ],
   "source": [
    "df.loc[\"doc1\":\"doc1\"]"
   ]
  },
  {
   "cell_type": "code",
   "execution_count": 7,
   "id": "a7fe2dcc-dee0-4681-a64a-4c9cff2990b1",
   "metadata": {},
   "outputs": [
    {
     "data": {
      "text/plain": [
       "array([[0.9486833]])"
      ]
     },
     "execution_count": 7,
     "metadata": {},
     "output_type": "execute_result"
    }
   ],
   "source": [
    "cosine_similarity(df.loc[\"doc1\":\"doc1\"],df.loc[\"doc2\":\"doc2\"])"
   ]
  },
  {
   "cell_type": "code",
   "execution_count": 8,
   "id": "49998483-528e-4771-8ff0-e9412fc613fe",
   "metadata": {},
   "outputs": [
    {
     "data": {
      "text/plain": [
       "array([[0.6]])"
      ]
     },
     "execution_count": 8,
     "metadata": {},
     "output_type": "execute_result"
    }
   ],
   "source": [
    "cosine_similarity(df.loc[\"doc1\":\"doc1\"],df.loc[\"doc3\":\"doc3\"])"
   ]
  },
  {
   "cell_type": "code",
   "execution_count": 10,
   "id": "8e47a4c4-9718-4344-9a70-9d200122ec1e",
   "metadata": {},
   "outputs": [
    {
     "data": {
      "text/plain": [
       "array([[0.70710678]])"
      ]
     },
     "execution_count": 10,
     "metadata": {},
     "output_type": "execute_result"
    }
   ],
   "source": [
    "cosine_similarity(df.loc[\"doc1\":\"doc1\"],df.loc[\"doc4\":\"doc4\"])"
   ]
  },
  {
   "cell_type": "code",
   "execution_count": 11,
   "id": "407d18b6-26b0-40d4-99ce-30d951760029",
   "metadata": {},
   "outputs": [
    {
     "data": {
      "text/plain": [
       "array([[0.29289322]])"
      ]
     },
     "execution_count": 11,
     "metadata": {},
     "output_type": "execute_result"
    }
   ],
   "source": [
    "cosine_distances(df.loc[\"doc1\":\"doc1\"],df.loc[\"doc4\":\"doc4\"])"
   ]
  },
  {
   "cell_type": "code",
   "execution_count": null,
   "id": "bc9a31ea-363e-4f98-a07d-e50684c6086e",
   "metadata": {},
   "outputs": [],
   "source": [
    "1-0.70710678"
   ]
  }
 ],
 "metadata": {
  "kernelspec": {
   "display_name": "Python 3 (ipykernel)",
   "language": "python",
   "name": "python3"
  },
  "language_info": {
   "codemirror_mode": {
    "name": "ipython",
    "version": 3
   },
   "file_extension": ".py",
   "mimetype": "text/x-python",
   "name": "python",
   "nbconvert_exporter": "python",
   "pygments_lexer": "ipython3",
   "version": "3.12.1"
  },
  "widgets": {
   "application/vnd.jupyter.widget-state+json": {
    "state": {},
    "version_major": 2,
    "version_minor": 0
   }
  }
 },
 "nbformat": 4,
 "nbformat_minor": 5
}
